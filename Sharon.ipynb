{
  "nbformat": 4,
  "nbformat_minor": 0,
  "metadata": {
    "colab": {
      "provenance": []
    },
    "kernelspec": {
      "name": "python3",
      "display_name": "Python 3"
    },
    "language_info": {
      "name": "python"
    }
  },
  "cells": [
    {
      "cell_type": "code",
      "execution_count": 1,
      "metadata": {
        "colab": {
          "base_uri": "https://localhost:8080/"
        },
        "id": "bqs1gQoqHqiI",
        "outputId": "6b67c751-5121-45b6-fd18-51f433d4b233"
      },
      "outputs": [
        {
          "output_type": "stream",
          "name": "stdout",
          "text": [
            "Masukkan nama file teks pertama: /content/Wanita Rajin.docx\n",
            "Masukkan nama file teks kedua: /content/Seorang Pemalas 1.docx\n",
            "Error: 'utf-8' codec can't decode byte 0xd2 in position 16: invalid continuation byte\n",
            "Error: 'utf-8' codec can't decode byte 0xd2 in position 16: invalid continuation byte\n",
            "Kata-kata yang muncul pada kedua file:\n"
          ]
        }
      ],
      "source": [
        "def read_file(file_name):\n",
        "    try:\n",
        "        with open(file_name, 'r') as file:\n",
        "            return set(file.read().lower().split())\n",
        "    except FileNotFoundError:\n",
        "        print(f\"Error: File '{file_name}' tidak ditemukan.\")\n",
        "        return set()\n",
        "    except Exception as e:\n",
        "        print(f\"Error: {e}\")\n",
        "        return set()\n",
        "\n",
        "# Input nama file\n",
        "file1_name = input(\"Masukkan nama file teks pertama: \")\n",
        "file2_name = input(\"Masukkan nama file teks kedua: \")\n",
        "\n",
        "# Baca isi kedua file\n",
        "file1_words = read_file(file1_name)\n",
        "file2_words = read_file(file2_name)\n",
        "\n",
        "# Temukan kata-kata yang sama pada kedua file\n",
        "common_words = file1_words & file2_words\n",
        "\n",
        "# Tampilkan kata-kata yang sama\n",
        "print(\"Kata-kata yang muncul pada kedua file:\")\n",
        "for word in common_words:\n",
        "    print(word)"
      ]
    },
    {
      "cell_type": "code",
      "source": [
        "f=open('/content/Seorang Pemalas 1.txt')"
      ],
      "metadata": {
        "id": "tyFI4kd0OHue"
      },
      "execution_count": 10,
      "outputs": []
    },
    {
      "cell_type": "code",
      "source": [
        "f.read()"
      ],
      "metadata": {
        "colab": {
          "base_uri": "https://localhost:8080/",
          "height": 159
        },
        "id": "TFUxAVUeONlm",
        "outputId": "92b0029a-bff3-420f-cd0a-270b4bf1cc7a"
      },
      "execution_count": 11,
      "outputs": [
        {
          "output_type": "execute_result",
          "data": {
            "text/plain": [
              "'Seorang Pemalas\\nDi sebuah desa kecil yang terletak di lereng bukit, hiduplah seorang pemuda bernama Adi. Adi adalah seorang pemalas sejati. Sejak kecil, dia lebih suka bermalas-malasan daripada melakukan tugas-tugasnya. Ketika anak-anak seusianya bermain di luar, Adi lebih suka tiduran di bawah pohon sambil memandangi awan yang berlalu.\\nSetiap kali diberi pekerjaan rumah oleh ibunya, Adi selalu menemukan cara untuk menghindarinya. Misalnya, saat diminta membantu membersihkan halaman, Adi akan bersembunyi di dalam rumah dan pura-pura tidur. Saat diminta membeli barang di pasar, Adi akan berkeliling desa selama berjam-jam hanya untuk menghindari tugasnya.\\nKetidakpedulian Adi terhadap tanggung jawabnya membuat banyak orang di desa kesal. Tetapi, meskipun sering kali marah-marah padanya, Adi tidak pernah berubah. Dia terus saja hidup dalam dunianya sendiri, tanpa memikirkan konsekuensi dari perilakunya.\\nNamun, suatu hari, kebiasaan Adi berubah. Dia melihat sekelompok anak-anak di desanya sedang bermain sepak bola dengan riangnya. Meskipun sebelumnya dia tidak tertarik, tiba-tiba Adi merasa ingin bergabung. Namun, ketika dia mencoba berlari ke lapangan, dia merasa lelah dan tidak kuat untuk bermain. Itulah saat Adi menyadari betapa pentingnya bergerak dan tidak bermalas-malasan.\\nDari saat itu, Adi mulai memperbaiki kebiasaannya. Meskipun tidak mudah, dia berusaha lebih aktif dan bertanggung jawab. Dia belajar membantu ibunya di rumah, bekerja di ladang, dan bahkan belajar keterampilan baru. Walaupun terkadang masih merasa malas, Adi telah memahami bahwa hidup bukanlah tentang menghindari tanggung jawab, tetapi tentang bagaimana kita menghadapinya.\\n'"
            ],
            "application/vnd.google.colaboratory.intrinsic+json": {
              "type": "string"
            }
          },
          "metadata": {},
          "execution_count": 11
        }
      ]
    },
    {
      "cell_type": "code",
      "source": [
        "f=open('/content/Wanita Rajin.txt')\n"
      ],
      "metadata": {
        "id": "cmIDtPVoJUHD"
      },
      "execution_count": 8,
      "outputs": []
    },
    {
      "cell_type": "code",
      "source": [
        "f.read()"
      ],
      "metadata": {
        "colab": {
          "base_uri": "https://localhost:8080/",
          "height": 159
        },
        "id": "eAsSHdGxKbiU",
        "outputId": "75690846-6736-472e-814b-bfcba8bdcfd5"
      },
      "execution_count": 9,
      "outputs": [
        {
          "output_type": "execute_result",
          "data": {
            "text/plain": [
              "'Wanita Rajin\\nDi sebuah kota kecil yang sunyi, hiduplah seorang wanita muda yang bernama Maya. Maya adalah contoh nyata dari seorang wanita rajin. Sejak kecil, Maya telah memiliki semangat dan keinginan untuk mencapai impian-impian besar dalam hidupnya. Dia tumbuh dalam keluarga sederhana di pedesaan, di mana dia belajar dari orangtuanya nilai-nilai kerja keras, ketekunan, dan ketabahan.\\nMaya selalu menjadi siswa yang rajin di sekolahnya. Dia selalu memperhatikan pelajaran, bertanya kepada guru jika ada yang tidak dimengerti, dan selalu berusaha memberikan yang terbaik dalam setiap ujian. Meskipun lingkungan tempat tinggalnya tidak selalu mendukung pendidikan yang baik, Maya tidak pernah menyerah. Dia belajar dengan tekun di bawah lampu teplok di rumahnya setiap malam.\\nKetika banyak orang seumurannya lebih memilih untuk bersantai atau bermain, Maya menghabiskan waktunya untuk membaca dan memperdalam pengetahuannya. Dia memiliki ambisi yang besar untuk mengejar pendidikan tinggi dan mencapai kesuksesan dalam karier. Maya tidak pernah merasa puas dengan apa yang dia miliki sekarang, tetapi selalu berusaha untuk menjadi lebih baik dari hari ke hari.\\nKetika dia lulus dari sekolah menengah, Maya mendapatkan beasiswa akademis yang memungkinkannya untuk melanjutkan pendidikan tinggi di perguruan tinggi terkemuka. Di perguruan tinggi, dia tetap menunjukkan ketekunan dan semangatnya. Dia tidak hanya mengejar gelar sarjana dengan prestasi yang gemilang, tetapi juga aktif dalam berbagai kegiatan ekstrakurikuler dan proyek penelitian.\\nSetelah lulus, Maya memulai karier profesionalnya dengan semangat yang sama. Dia bekerja keras dan menunjukkan dedikasi yang luar biasa dalam pekerjaannya. Kualitas kerjanya dan sikapnya yang rajin membuatnya cepat dikenal dan dihormati di lingkungan kerja. Meskipun berhasil dalam karier, Maya tetap rendah hati dan tidak pernah melupakan akar-akarnya.\\nMaya adalah teladan bagi banyak orang dalam komunitasnya. Dia adalah bukti bahwa dengan kerja keras, ketekunan, dan semangat yang tidak pernah padam, seseorang dapat mencapai apa pun yang diinginkannya dalam hidup. Maya menginspirasi banyak orang untuk tidak pernah menyerah pada impian mereka dan selalu berusaha untuk menjadi versi terbaik dari diri mereka sendiri.\\n'"
            ],
            "application/vnd.google.colaboratory.intrinsic+json": {
              "type": "string"
            }
          },
          "metadata": {},
          "execution_count": 9
        }
      ]
    },
    {
      "cell_type": "code",
      "source": [
        "# Input jumlah kategori\n",
        "n = int(input('Masukkan jumlah kategori: '))\n",
        "\n",
        "# Siapkan dictionary kosong\n",
        "data_aplikasi = {}\n",
        "\n",
        "# Input nama kategori dan aplikasi di dalamnya\n",
        "for i in range(n):\n",
        "    nama_kategori = input('Masukkan nama kategori: ')\n",
        "    print('Masukkan 5 nama aplikasi di kategori', nama_kategori)\n",
        "    # Siapkan list kosong untuk nama-nama aplikasi\n",
        "    aplikasi = []\n",
        "    for j in range(5):\n",
        "        nama_aplikasi = input('Nama aplikasi: ')\n",
        "        aplikasi.append(nama_aplikasi)\n",
        "    # Masukkan dalam dictionary\n",
        "    data_aplikasi[nama_kategori] = aplikasi\n",
        "\n",
        "# Tampilkan dictionary data_aplikasi\n",
        "print(data_aplikasi)\n",
        "\n",
        "# Siapkan list untuk menampung set aplikasi dari setiap kategori\n",
        "daftar_aplikasi_list = []\n",
        "\n",
        "# Ambil semua daftar aplikasi dari setiap kategori dan ubah menjadi set\n",
        "for aplikasi in data_aplikasi.values():\n",
        "    daftar_aplikasi_list.append(set(aplikasi))\n",
        "\n",
        "print(\"Set aplikasi dari setiap kategori:\", daftar_aplikasi_list)\n",
        "\n",
        "# Lakukan intersection ke semua set yang ada\n",
        "if daftar_aplikasi_list:\n",
        "    # Aplikasi yang muncul di semua kategori\n",
        "    hasil = daftar_aplikasi_list[0]\n",
        "    for i in range(1, len(daftar_aplikasi_list)):\n",
        "        hasil = hasil.intersection(daftar_aplikasi_list[i])\n",
        "    print(\"Aplikasi yang ada di semua kategori:\", hasil)\n",
        "\n",
        "    # Aplikasi yang hanya muncul di satu kategori saja\n",
        "    all_apps = set().union(*daftar_aplikasi_list)\n",
        "    apps_in_single_category = set()\n",
        "    for app in all_apps:\n",
        "        count = sum(app in aplikasi for aplikasi in daftar_aplikasi_list)\n",
        "        if count == 1:\n",
        "            apps_in_single_category.add(app)\n",
        "    print(\"Aplikasi yang hanya muncul di satu kategori:\", apps_in_single_category)\n",
        "\n",
        "    # Aplikasi yang muncul tepat di dua kategori (untuk n > 2)\n",
        "    if n > 2:\n",
        "        apps_in_two_categories = set()\n",
        "        for app in all_apps:\n",
        "            count = sum(app in aplikasi for aplikasi in daftar_aplikasi_list)\n",
        "            if count == 2:\n",
        "                apps_in_two_categories.add(app)\n",
        "        print(\"Aplikasi yang muncul tepat di dua kategori:\", apps_in_two_categories)\n",
        "else:\n",
        "    print(\"Tidak ada kategori yang dimasukkan.\")\n",
        "\n"
      ],
      "metadata": {
        "colab": {
          "base_uri": "https://localhost:8080/"
        },
        "id": "dBrgJIWDOZiT",
        "outputId": "70602ad9-198d-4575-8f22-05e5ec42f76b"
      },
      "execution_count": 12,
      "outputs": [
        {
          "output_type": "stream",
          "name": "stdout",
          "text": [
            "Masukkan jumlah kategori: 2\n",
            "Masukkan nama kategori: finance\n",
            "Masukkan 5 nama aplikasi di kategori finance\n",
            "Nama aplikasi: RTI Saham\n",
            "Nama aplikasi: Mirae\n",
            "Nama aplikasi: IPOT\n",
            "Nama aplikasi: Poems\n",
            "Nama aplikasi: Calculator\n",
            "Masukkan nama kategori: Utilities\n",
            "Masukkan 5 nama aplikasi di kategori Utilities\n",
            "Nama aplikasi: Photos\n",
            "Nama aplikasi: Weather\n",
            "Nama aplikasi: Calculator\n",
            "Nama aplikasi: Camera\n",
            "Nama aplikasi: Notes\n",
            "{'finance': ['RTI Saham', 'Mirae', 'IPOT', 'Poems', 'Calculator'], 'Utilities': ['Photos', 'Weather', 'Calculator', 'Camera', 'Notes']}\n",
            "Set aplikasi dari setiap kategori: [{'Calculator', 'RTI Saham', 'Poems', 'IPOT', 'Mirae'}, {'Notes', 'Calculator', 'Photos', 'Weather', 'Camera'}]\n",
            "Aplikasi yang ada di semua kategori: {'Calculator'}\n",
            "Aplikasi yang hanya muncul di satu kategori: {'Notes', 'Photos', 'RTI Saham', 'Poems', 'Weather', 'Camera', 'IPOT', 'Mirae'}\n"
          ]
        }
      ]
    },
    {
      "cell_type": "code",
      "source": [
        "def remove_duplicates(data):\n",
        "    unique_data = []\n",
        "    for item in data:\n",
        "        if item not in unique_data:\n",
        "            unique_data.append(item)\n",
        "    return unique_data\n",
        "\n",
        "def merge_tuples(tuple1, tuple2):\n",
        "    merged_tuple = tuple1 + tuple2\n",
        "    return merged_tuple\n",
        "\n",
        "# Data awal\n",
        "list_data = [1, 2, 3, 4, 5, 1, 2, 3]\n",
        "set_data = {5, 6, 7, 8, 9}\n",
        "tuple_data = (9, 10, 11, 12, 13)\n",
        "tuple_data_2 = (14, 15, 16)\n",
        "\n",
        "# Tampilkan data sebelum konversi\n",
        "print(\"Data sebelum konversi:\")\n",
        "print(\"List:\", list_data)\n",
        "print(\"Set:\", set_data)\n",
        "print(\"Tuple:\", tuple_data)\n",
        "print()\n",
        "\n",
        "# Manipulasi data sebelum konversi\n",
        "list_data = remove_duplicates(list_data)\n",
        "tuple_data = merge_tuples(tuple_data, tuple_data_2)\n",
        "\n",
        "# Konversi List menjadi Set\n",
        "set_from_list = set(list_data)\n",
        "print(\"Konversi List menjadi Set:\", set_from_list)\n",
        "\n",
        "# Konversi Set menjadi List\n",
        "list_from_set = list(set_data)\n",
        "print(\"Konversi Set menjadi List:\", list_from_set)\n",
        "\n",
        "# Konversi Tuple menjadi Set\n",
        "set_from_tuple = set(tuple_data)\n",
        "print(\"Konversi Tuple menjadi Set:\", set_from_tuple)\n",
        "\n",
        "# Konversi Set menjadi Tuple\n",
        "tuple_from_set = tuple(list_data)\n",
        "print(\"Konversi Set menjadi Tuple:\", tuple_from_set)\n"
      ],
      "metadata": {
        "colab": {
          "base_uri": "https://localhost:8080/"
        },
        "id": "3dPGW87DO-7e",
        "outputId": "ba59dd33-051b-42da-9067-8f8cc62bad44"
      },
      "execution_count": 13,
      "outputs": [
        {
          "output_type": "stream",
          "name": "stdout",
          "text": [
            "Data sebelum konversi:\n",
            "List: [1, 2, 3, 4, 5, 1, 2, 3]\n",
            "Set: {5, 6, 7, 8, 9}\n",
            "Tuple: (9, 10, 11, 12, 13)\n",
            "\n",
            "Konversi List menjadi Set: {1, 2, 3, 4, 5}\n",
            "Konversi Set menjadi List: [5, 6, 7, 8, 9]\n",
            "Konversi Tuple menjadi Set: {9, 10, 11, 12, 13, 14, 15, 16}\n",
            "Konversi Set menjadi Tuple: (1, 2, 3, 4, 5)\n"
          ]
        }
      ]
    }
  ]
}