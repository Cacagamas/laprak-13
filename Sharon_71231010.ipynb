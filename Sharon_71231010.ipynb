{
  "nbformat": 4,
  "nbformat_minor": 0,
  "metadata": {
    "colab": {
      "provenance": []
    },
    "kernelspec": {
      "name": "python3",
      "display_name": "Python 3"
    },
    "language_info": {
      "name": "python"
    }
  },
  "cells": [
    {
      "cell_type": "code",
      "execution_count": 1,
      "metadata": {
        "colab": {
          "base_uri": "https://localhost:8080/"
        },
        "id": "ZFWmQCBnPajp",
        "outputId": "ab1e76d0-ac01-4e0d-88e2-d5b65608818f"
      },
      "outputs": [
        {
          "output_type": "stream",
          "name": "stdout",
          "text": [
            "Tuple 1: All elements are equal? True\n",
            "Tuple 2: All elements are equal? False\n"
          ]
        }
      ],
      "source": [
        "def check_all_equal(tuple_data):\n",
        "\n",
        "    if len(tuple_data) > 1:\n",
        "\n",
        "        first_element = tuple_data[0]\n",
        "        for element in tuple_data[1:]:\n",
        "\n",
        "            if element != first_element:\n",
        "                return False\n",
        "\n",
        "    return True\n",
        "\n",
        "tuple1 = (1, 1, 1, 1)\n",
        "tuple2 = (1, 2, 1, 1)\n",
        "\n",
        "print(\"Tuple 1: All elements are equal?\", check_all_equal(tuple1))\n",
        "print(\"Tuple 2: All elements are equal?\", check_all_equal(tuple2))\n"
      ]
    },
    {
      "cell_type": "markdown",
      "source": [],
      "metadata": {
        "id": "LVksD_P3WgsP"
      }
    },
    {
      "cell_type": "code",
      "source": [
        "# Mendefinisikan tuple data diri\n",
        "data_diri = ('Sharon Gamas', '1234567887654321', 'Kutai Barat, Kalimantan Timur')\n",
        "\n",
        "print(\"Data:\")\n",
        "print(\"NIM :\", data_diri[1])\n",
        "print(\"NAMA :\", data_diri[0])\n",
        "print(\"ALAMAT :\", data_diri[2])\n",
        "\n",
        "nim_tuple = tuple(data_diri[1])\n",
        "\n",
        "nama_depan_tuple = tuple(data_diri[0].split()[0])\n",
        "\n",
        "nama_belakang_list = data_diri[0].split()[1:]\n",
        "nama_belakang_list.reverse()\n",
        "nama_belakang_tuple = tuple(nama_belakang_list)\n",
        "\n",
        "print(\"NIM:\", nim_tuple)\n",
        "print(\"NAMA DEPAN:\", nama_depan_tuple)\n",
        "print(\"NAMA TERBALIK:\", nama_belakang_tuple)\n"
      ],
      "metadata": {
        "colab": {
          "base_uri": "https://localhost:8080/"
        },
        "id": "9Ra0-FfYSAdR",
        "outputId": "f18afb2f-f6e6-4a51-ae73-4bd576397123"
      },
      "execution_count": 2,
      "outputs": [
        {
          "output_type": "stream",
          "name": "stdout",
          "text": [
            "Data:\n",
            "NIM : 1234567887654321\n",
            "NAMA : Sharon Gamas\n",
            "ALAMAT : Kutai Barat, Kalimantan Timur\n",
            "NIM: ('1', '2', '3', '4', '5', '6', '7', '8', '8', '7', '6', '5', '4', '3', '2', '1')\n",
            "NAMA DEPAN: ('S', 'h', 'a', 'r', 'o', 'n')\n",
            "NAMA TERBALIK: ('Gamas',)\n"
          ]
        }
      ]
    },
    {
      "cell_type": "code",
      "source": [
        "from collections import defaultdict\n",
        "\n",
        "def count_hour_distribution(email_logs):\n",
        "\n",
        "    hour_distribution = defaultdict(int)\n",
        "\n",
        "\n",
        "    for log_entry in email_logs:\n",
        "\n",
        "        hour = log_entry.split()[1].split(':')[0]\n",
        "\n",
        "        hour_distribution[hour] += 1\n",
        "\n",
        "    return hour_distribution\n",
        "\n",
        "email_logs = [\n",
        "    \"user1@example.com 08:30:45\",\n",
        "    \"user2@example.com 12:15:20\",\n",
        "    \"user3@example.com 15:45:10\",\n",
        "    \"user4@example.com 18:20:05\",\n",
        "    \"user5@example.com 21:05:30\",\n",
        "    \"user6@example.com 09:40:15\",\n",
        "    \"user7@example.com 14:55:55\",\n",
        "    \"user8@example.com 19:10:25\",\n",
        "    \"user9@example.com 22:30:40\",\n",
        "    \"user10@example.com 07:20:50\"\n",
        "]\n",
        "\n",
        "hour_distribution = count_hour_distribution(email_logs)\n",
        "\n",
        "print(\"Distribusi Jam dalam Satu Hari:\")\n",
        "for hour, count in sorted(hour_distribution.items()):\n",
        "    print(f\"Jam {hour}:00 - {hour}:59: {count} pesan\")"
      ],
      "metadata": {
        "colab": {
          "base_uri": "https://localhost:8080/"
        },
        "id": "L-rDVzbYWjXz",
        "outputId": "4aeb594c-44ac-490c-9d4c-a315df96270f"
      },
      "execution_count": 4,
      "outputs": [
        {
          "output_type": "stream",
          "name": "stdout",
          "text": [
            "Distribusi Jam dalam Satu Hari:\n",
            "Jam 07:00 - 07:59: 1 pesan\n",
            "Jam 08:00 - 08:59: 1 pesan\n",
            "Jam 09:00 - 09:59: 1 pesan\n",
            "Jam 12:00 - 12:59: 1 pesan\n",
            "Jam 14:00 - 14:59: 1 pesan\n",
            "Jam 15:00 - 15:59: 1 pesan\n",
            "Jam 18:00 - 18:59: 1 pesan\n",
            "Jam 19:00 - 19:59: 1 pesan\n",
            "Jam 21:00 - 21:59: 1 pesan\n",
            "Jam 22:00 - 22:59: 1 pesan\n"
          ]
        }
      ]
    },
    {
      "cell_type": "markdown",
      "source": [
        " \"user1@example.com 08:30:45\",\n",
        "    \"user2@example.com 12:15:20\",\n",
        "    \"user3@example.com 15:45:10\",\n",
        "    \"user4@example.com 18:20:05\",\n",
        "    \"user5@example.com 21:05:30\",\n",
        "    \"user6@example.com 09:40:15\",\n",
        "    \"user7@example.com 14:55:55\",\n",
        "    \"user8@example.com 19:10:25\",\n",
        "    \"user9@example.com 22:30:40\",\n",
        "    \"user10@example.com 07:20:50\""
      ],
      "metadata": {
        "id": "DDBHFzKtWq7P"
      }
    },
    {
      "cell_type": "code",
      "source": [
        "from collections import defaultdict\n",
        "\n",
        "def count_hour_distribution(email_logs):\n",
        "\n",
        "    hour_distribution = defaultdict(int)\n",
        "\n",
        "\n",
        "    for log_entry in email_logs:\n",
        "\n",
        "        hour = log_entry.split()[1].split(':')[0]\n",
        "\n",
        "        hour_distribution[hour] += 1\n",
        "\n",
        "    return hour_distribution\n",
        "\n",
        "\n",
        "hour_distribution = count_hour_distribution(email_logs)\n",
        "\n",
        "print(\"Distribusi Jam dalam Satu Hari:\")\n",
        "for hour, count in sorted(hour_distribution.items()):\n",
        "    print(f\"Jam {hour}:00 - {hour}:59: {count} pesan\")\n",
        ""
      ],
      "metadata": {
        "colab": {
          "base_uri": "https://localhost:8080/"
        },
        "id": "UvBLsrpqXETU",
        "outputId": "08b2d82d-43a0-47ec-9b23-22c48a71c74f"
      },
      "execution_count": 6,
      "outputs": [
        {
          "output_type": "stream",
          "name": "stdout",
          "text": [
            "Distribusi Jam dalam Satu Hari:\n",
            "Jam 07:00 - 07:59: 1 pesan\n",
            "Jam 08:00 - 08:59: 1 pesan\n",
            "Jam 09:00 - 09:59: 1 pesan\n",
            "Jam 12:00 - 12:59: 1 pesan\n",
            "Jam 14:00 - 14:59: 1 pesan\n",
            "Jam 15:00 - 15:59: 1 pesan\n",
            "Jam 18:00 - 18:59: 1 pesan\n",
            "Jam 19:00 - 19:59: 1 pesan\n",
            "Jam 21:00 - 21:59: 1 pesan\n",
            "Jam 22:00 - 22:59: 1 pesan\n"
          ]
        }
      ]
    }
  ]
}